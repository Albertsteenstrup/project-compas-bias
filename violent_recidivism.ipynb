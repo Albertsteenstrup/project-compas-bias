{
 "cells": [
  {
   "cell_type": "code",
   "execution_count": 2,
   "metadata": {},
   "outputs": [],
   "source": [
    "import pandas as pd\n",
    "import numpy as np\n",
    "import matplotlib.pyplot as plt\n",
    "import seaborn as sns\n",
    "import statsmodels.formula.api as smf\n",
    "\n",
    "sns.set(style=\"whitegrid\")"
   ]
  },
  {
   "cell_type": "code",
   "execution_count": 6,
   "metadata": {},
   "outputs": [
    {
     "name": "stdout",
     "output_type": "stream",
     "text": [
      "Total rows: 4743\n"
     ]
    }
   ],
   "source": [
    "raw = pd.read_csv(\"dataset/compas-scores-two-years-violent.csv\")\n",
    "print(f\"Total rows: {len(raw)}\")"
   ]
  },
  {
   "cell_type": "code",
   "execution_count": 9,
   "metadata": {},
   "outputs": [],
   "source": [
    "df = raw.loc[:, [\n",
    "    'age','c_charge_degree','race','age_cat','v_score_text','sex',\n",
    "    'priors_count','days_b_screening_arrest','v_decile_score',\n",
    "    'is_recid','two_year_recid'\n",
    "]].copy()"
   ]
  },
  {
   "cell_type": "code",
   "execution_count": 10,
   "metadata": {},
   "outputs": [
    {
     "name": "stdout",
     "output_type": "stream",
     "text": [
      "Rows after filtering: 4020\n"
     ]
    }
   ],
   "source": [
    "df = df[\n",
    "    df['days_b_screening_arrest'].between(-30,30) &\n",
    "    (df['is_recid'] != -1) &\n",
    "    (df['c_charge_degree'] != 'O') &\n",
    "    (df['v_score_text'] != 'N/A')\n",
    "]\n",
    "print(f\"Rows after filtering: {len(df)}\")"
   ]
  },
  {
   "cell_type": "code",
   "execution_count": 12,
   "metadata": {},
   "outputs": [
    {
     "name": "stdout",
     "output_type": "stream",
     "text": [
      "Age categories:\n",
      " age_cat\n",
      "25 - 45            2300\n",
      "Greater than 45     954\n",
      "Less than 25        766\n",
      "Name: count, dtype: int64 \n",
      "\n",
      "Race:\n",
      " race\n",
      "African-American    1918\n",
      "Caucasian           1459\n",
      "Hispanic             355\n",
      "Other                255\n",
      "Asian                 26\n",
      "Native American        7\n",
      "Name: count, dtype: int64 \n",
      "\n",
      "Violent score text:\n",
      " v_score_text\n",
      "Low       2913\n",
      "Medium     828\n",
      "High       279\n",
      "Name: count, dtype: int64 \n",
      "\n",
      "Two‐year recidivism rate: 16.2%\n"
     ]
    }
   ],
   "source": [
    "print(\"Age categories:\\n\", df['age_cat'].value_counts(), \"\\n\")\n",
    "print(\"Race:\\n\", df['race'].value_counts(), \"\\n\")\n",
    "print(\"Violent score text:\\n\", df['v_score_text'].value_counts(), \"\\n\")\n",
    "recid_rate = df['two_year_recid'].mean() * 100\n",
    "print(f\"Two‐year recidivism rate: {recid_rate:.1f}%\")"
   ]
  },
  {
   "cell_type": "code",
   "execution_count": 13,
   "metadata": {},
   "outputs": [
    {
     "data": {
      "image/png": "[encoded data removed]",
      "text/plain": [
       "<Figure size 1200x400 with 2 Axes>"
      ]
     },
     "metadata": {},
     "output_type": "display_data"
    }
   ],
   "source": [
    "fig, axes = plt.subplots(1,2,figsize=(12,4), sharey=True)\n",
    "order = sorted(df['v_decile_score'].unique())\n",
    "\n",
    "sns.countplot(x='v_decile_score',\n",
    "              data=df[df['race']==\"African-American\"],\n",
    "              order=order, ax=axes[0])\n",
    "axes[0].set(title=\"Black Violent Decile Scores\", xlabel=\"Decile\", ylim=(0,700))\n",
    "\n",
    "sns.countplot(x='v_decile_score',\n",
    "              data=df[df['race']==\"Caucasian\"],\n",
    "              order=order, ax=axes[1])\n",
    "axes[1].set(title=\"White Violent Decile Scores\", xlabel=\"Decile\", ylim=(0,700))\n",
    "\n",
    "plt.tight_layout()\n",
    "plt.show()"
   ]
  },
  {
   "cell_type": "code",
   "execution_count": 25,
   "metadata": {},
   "outputs": [],
   "source": [
    "df['high_vscore'] = (df['v_score_text'] != 'Low').astype(int)\n",
    "\n",
    "# Caucasian is the reference level\n",
    "df['race_cat'] = pd.Categorical(\n",
    "    df['race'],\n",
    "    categories=[\n",
    "        'Caucasian',\n",
    "        'African-American',\n",
    "        'Asian',\n",
    "        'Hispanic',\n",
    "        'Native American',\n",
    "        'Other'\n",
    "    ],\n",
    "    ordered=False\n",
    ")"
   ]
  },
  {
   "cell_type": "code",
   "execution_count": 30,
   "metadata": {},
   "outputs": [
    {
     "name": "stdout",
     "output_type": "stream",
     "text": [
      "                           Logit Regression Results                           \n",
      "==============================================================================\n",
      "Dep. Variable:            high_vscore   No. Observations:                 4020\n",
      "Model:                          Logit   Df Residuals:                     4008\n",
      "Method:                           MLE   Df Model:                           11\n",
      "Date:                Tue, 13 May 2025   Pseudo R-squ.:                  0.3662\n",
      "Time:                        20:42:34   Log-Likelihood:                -1499.4\n",
      "converged:                       True   LL-Null:                       -2365.9\n",
      "Covariance Type:            nonrobust   LLR p-value:                     0.000\n",
      "=====================================================================================================================================\n",
      "                                                                        coef    std err          z      P>|z|      [0.025      0.975]\n",
      "-------------------------------------------------------------------------------------------------------------------------------------\n",
      "Intercept                                                            -2.9716      0.156    -19.050      0.000      -3.277      -2.666\n",
      "C(sex)[T.Male]                                                        0.7289      0.127      5.755      0.000       0.481       0.977\n",
      "C(age_cat)[T.Greater than 45]                                        -1.7421      0.184     -9.460      0.000      -2.103      -1.381\n",
      "C(age_cat)[T.Less than 25]                                            3.1459      0.115     27.259      0.000       2.920       3.372\n",
      "C(race_cat, Treatment(reference='Caucasian'))[T.African-American]     0.6589      0.108      6.093      0.000       0.447       0.871\n",
      "C(race_cat, Treatment(reference='Caucasian'))[T.Asian]               -0.9852      0.705     -1.397      0.162      -2.368       0.397\n",
      "C(race_cat, Treatment(reference='Caucasian'))[T.Hispanic]            -0.0642      0.191     -0.335      0.737      -0.439       0.311\n",
      "C(race_cat, Treatment(reference='Caucasian'))[T.Native American]      0.4479      1.035      0.433      0.665      -1.582       2.477\n",
      "C(race_cat, Treatment(reference='Caucasian'))[T.Other]               -0.2054      0.225     -0.914      0.360      -0.646       0.235\n",
      "C(c_charge_degree)[T.M]                                              -0.1637      0.098     -1.669      0.095      -0.356       0.029\n",
      "priors_count                                                          0.1376      0.012     11.854      0.000       0.115       0.160\n",
      "two_year_recid                                                        0.9345      0.115      8.107      0.000       0.709       1.160\n",
      "=====================================================================================================================================\n"
     ]
    }
   ],
   "source": [
    "model = smf.logit(\n",
    "    formula=(\n",
    "        \"high_vscore ~ \"\n",
    "        \"C(sex) + \"\n",
    "        \"C(age_cat) + \"\n",
    "        \"C(race_cat, Treatment(reference='Caucasian')) + \"\n",
    "        \"priors_count + \"\n",
    "        \"C(c_charge_degree) + \"\n",
    "        \"two_year_recid\"\n",
    "    ),\n",
    "    data=df\n",
    ").fit(disp=False)\n",
    "\n",
    "print(model.summary())"
   ]
  },
  {
   "cell_type": "code",
   "execution_count": 31,
   "metadata": {},
   "outputs": [],
   "source": [
    "params = model.params\n",
    "b0        = params['Intercept']\n",
    "b_black   = params['C(race_cat, Treatment(reference=\\'Caucasian\\'))[T.African-American]']\n",
    "b_male    = params['C(sex)[T.Male]']\n",
    "b_under25 = params['C(age_cat)[T.Less than 25]']"
   ]
  },
  {
   "cell_type": "code",
   "execution_count": 34,
   "metadata": {},
   "outputs": [
    {
     "name": "stdout",
     "output_type": "stream",
     "text": [
      "Baseline P(high violent score): 0.049\n",
      "African-American vs. White ratio: 1.849\n",
      "Male vs. Female ratio:           1.970\n",
      "<25 vs. 25–45 ratio:             11.154\n"
     ]
    }
   ],
   "source": [
    "p0 = np.exp(b0) / (1 + np.exp(b0))\n",
    "print(f\"Baseline P(high violent score): {p0:.3f}\")\n",
    "\n",
    "def adj_ratio(beta):\n",
    "    num = np.exp(beta)\n",
    "    return num / (1 - p0 + p0 * num)\n",
    "\n",
    "print(f\"African-American vs. White ratio: {adj_ratio(b_black):.3f}\")\n",
    "print(f\"Male vs. Female ratio:           {adj_ratio(b_male):.3f}\")\n",
    "print(f\"<25 vs. 25–45 ratio:             {adj_ratio(b_under25):.3f}\")\n"
   ]
  },
  {
   "cell_type": "markdown",
   "metadata": {},
   "source": [
    "### Updated Conclusions (Violent Recidivism)\n",
    "\n",
    "- **African-American vs. White**: Black defendants are **1.85×** as likely as White defendants to receive a High violent-risk score (≈ 84.9 % higher probability).  \n",
    "- **Male vs. Female**: Male defendants are **1.97×** as likely as female defendants to be labeled High violent risk (≈ 97.0 % higher probability).  \n",
    "- **Under 25 vs. 25–45**: Defendants under 25 are **11.15×** as likely as 25–45-year-olds to get a High violent-risk score (≈ 1 015 % higher probability).  "
   ]
  }
 ],
 "metadata": {
  "kernelspec": {
   "display_name": "ds_prod",
   "language": "python",
   "name": "python3"
  },
  "language_info": {
   "codemirror_mode": {
    "name": "ipython",
    "version": 3
   },
   "file_extension": ".py",
   "mimetype": "text/x-python",
   "name": "python",
   "nbconvert_exporter": "python",
   "pygments_lexer": "ipython3",
   "version": "3.12.9"
  }
 },
 "nbformat": 4,
 "nbformat_minor": 2
}
