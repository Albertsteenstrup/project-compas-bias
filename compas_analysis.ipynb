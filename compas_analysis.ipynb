{
 "cells": [
  {
   "cell_type": "markdown",
   "metadata": {},
   "source": [
    "# Compas Analysis"
   ]
  },
  {
   "cell_type": "code",
   "execution_count": 6,
   "metadata": {
    "collapsed": false,
    "scrolled": false
   },
   "outputs": [],
   "source": [
    "!pip install pandas numpy matplotlib seaborn statsmodels -q\n",
    "\n",
    "import pandas as pd\n",
    "import numpy as np\n",
    "from datetime import datetime\n",
    "import matplotlib.pyplot as plt\n",
    "import seaborn as sns\n",
    "import statsmodels.formula.api as smf\n",
    "\n",
    "sns.set(style=\"whitegrid\")"
   ]
  },
  {
   "cell_type": "code",
   "execution_count": 10,
   "metadata": {},
   "outputs": [
    {
     "name": "stdout",
     "output_type": "stream",
     "text": [
      "Total rows number: 7214\n"
     ]
    }
   ],
   "source": [
    "raw_data = pd.read_csv(\"dataset/compas-scores-two-years.csv\")\n",
    "print(f\"Total rows number: {len(raw_data)}\")"
   ]
  },
  {
   "cell_type": "code",
   "execution_count": 14,
   "metadata": {
    "collapsed": false
   },
   "outputs": [],
   "source": [
    "df = raw_data.loc[:, [\n",
    "    'age', 'c_charge_degree', 'race', 'age_cat', 'score_text', 'sex',\n",
    "    'priors_count', 'days_b_screening_arrest', 'decile_score',\n",
    "    'is_recid', 'two_year_recid', 'c_jail_in', 'c_jail_out'\n",
    "]]"
   ]
  },
  {
   "cell_type": "code",
   "execution_count": 15,
   "metadata": {},
   "outputs": [],
   "source": [
    "# We filter out rows for several reasons: (similar to the Propublica study)\n",
    "# 1. Screening date not within ±30 days of arrest  \n",
    "# 2. Missing recidivism flag (`is_recid == -1`)  \n",
    "# 3. Non-jailable offenses (`c_charge_degree == 'O'`)  \n",
    "# 4. Missing COMPAS score text (`score_text == 'N/A'`)  \n",
    "# 5. Only individuals with either two-year recidivism or ≥2 years out of jail"
   ]
  },
  {
   "cell_type": "code",
   "execution_count": 16,
   "metadata": {},
   "outputs": [
    {
     "name": "stdout",
     "output_type": "stream",
     "text": [
      "Rows after filtering: 6172\n"
     ]
    }
   ],
   "source": [
    "df = df[\n",
    "    df['days_b_screening_arrest'].between(-30, 30) &\n",
    "    (df['is_recid'] != -1) &\n",
    "    (df['c_charge_degree'] != 'O') &\n",
    "    (df['score_text'] != 'N/A')\n",
    "].copy()\n",
    "\n",
    "print(f\"Rows after filtering: {len(df)}\")"
   ]
  },
  {
   "cell_type": "code",
   "execution_count": 18,
   "metadata": {},
   "outputs": [
    {
     "name": "stdout",
     "output_type": "stream",
     "text": [
      "Correlation between length_of_stay and decile_score: 0.2075\n"
     ]
    }
   ],
   "source": [
    "#length of jail stay and its correlation with COMPAS decile score.\n",
    "\n",
    "df['c_jail_in'] = pd.to_datetime(df['c_jail_in'])\n",
    "df['c_jail_out'] = pd.to_datetime(df['c_jail_out'])\n",
    "df['length_of_stay'] = (df['c_jail_out'] - df['c_jail_in']).dt.days\n",
    "\n",
    "corr = df[['length_of_stay', 'decile_score']].corr().iloc[0,1]\n",
    "print(f\"Correlation between length_of_stay and decile_score: {corr:.4f}\")\n"
   ]
  },
  {
   "cell_type": "markdown",
   "metadata": {},
   "source": [
    "After filtering we have the following demographic breakdown:"
   ]
  },
  {
   "cell_type": "code",
   "execution_count": 20,
   "metadata": {
    "collapsed": false,
    "scrolled": true
   },
   "outputs": [
    {
     "name": "stdout",
     "output_type": "stream",
     "text": [
      "age_cat\n",
      "25 - 45            3532\n",
      "Less than 25       1347\n",
      "Greater than 45    1293\n",
      "Name: count, dtype: int64\n"
     ]
    }
   ],
   "source": [
    "print(df['age_cat'].value_counts(dropna=False))"
   ]
  },
  {
   "cell_type": "code",
   "execution_count": 21,
   "metadata": {
    "collapsed": false
   },
   "outputs": [
    {
     "name": "stdout",
     "output_type": "stream",
     "text": [
      "race\n",
      "African-American    3175\n",
      "Caucasian           2103\n",
      "Hispanic             509\n",
      "Other                343\n",
      "Asian                 31\n",
      "Native American       11\n",
      "Name: count, dtype: int64\n"
     ]
    }
   ],
   "source": [
    "print(df['race'].value_counts(dropna=False))"
   ]
  },
  {
   "cell_type": "code",
   "execution_count": 22,
   "metadata": {
    "collapsed": false
   },
   "outputs": [
    {
     "name": "stdout",
     "output_type": "stream",
     "text": [
      "African-American: 51.44%\n",
      "Caucasian: 34.07%\n",
      "Hispanic: 8.25%\n",
      "Other: 5.56%\n",
      "Asian: 0.50%\n",
      "Native American: 0.18%\n"
     ]
    }
   ],
   "source": [
    "total = len(df)\n",
    "for race, count in df['race'].value_counts().items():\n",
    "    print(f\"{race}: {count/total*100:.2f}%\")"
   ]
  },
  {
   "cell_type": "code",
   "execution_count": 23,
   "metadata": {
    "collapsed": false
   },
   "outputs": [
    {
     "name": "stdout",
     "output_type": "stream",
     "text": [
      "score_text\n",
      "Low       3421\n",
      "Medium    1607\n",
      "High      1144\n",
      "Name: count, dtype: int64\n"
     ]
    }
   ],
   "source": [
    "print(df['score_text'].value_counts())"
   ]
  },
  {
   "cell_type": "code",
   "execution_count": 24,
   "metadata": {
    "collapsed": false
   },
   "outputs": [
    {
     "name": "stdout",
     "output_type": "stream",
     "text": [
      "race    African-American  Asian  Caucasian  Hispanic  Native American  Other\n",
      "sex                                                                         \n",
      "Female               549      2        482        82                2     58\n",
      "Male                2626     29       1621       427                9    285\n"
     ]
    }
   ],
   "source": [
    "print(pd.crosstab(df['sex'], df['race']))"
   ]
  },
  {
   "cell_type": "code",
   "execution_count": 25,
   "metadata": {
    "collapsed": false
   },
   "outputs": [
    {
     "name": "stdout",
     "output_type": "stream",
     "text": [
      "Male: 80.96%\n",
      "Female: 19.04%\n"
     ]
    }
   ],
   "source": [
    "sex_counts = df['sex'].value_counts()\n",
    "for sex, count in sex_counts.items():\n",
    "    print(f\"{sex}: {count/total*100:.2f}%\")"
   ]
  },
  {
   "cell_type": "code",
   "execution_count": 26,
   "metadata": {
    "collapsed": false
   },
   "outputs": [
    {
     "name": "stdout",
     "output_type": "stream",
     "text": [
      "\n",
      "Number of recidivists: 2809\n",
      "Recidivism rate: 45.51%\n"
     ]
    }
   ],
   "source": [
    "recid_count = df['two_year_recid'].sum()\n",
    "print(f\"\\nNumber of recidivists: {recid_count}\")\n",
    "print(f\"Recidivism rate: {recid_count/total*100:.2f}%\")"
   ]
  },
  {
   "cell_type": "code",
   "execution_count": 30,
   "metadata": {
    "collapsed": false
   },
   "outputs": [
    {
     "data": {
      "image/png": "[encoded data removed]",
      "text/plain": [
       "<Figure size 1200x400 with 2 Axes>"
      ]
     },
     "metadata": {},
     "output_type": "display_data"
    }
   ],
   "source": [
    "fig, axes = plt.subplots(1, 2, figsize=(12, 4), sharey=True)\n",
    "\n",
    "sns.countplot(x='decile_score', data=df[df['race']==\"African-American\"],\n",
    "              order=sorted(df['decile_score'].unique()),\n",
    "              ax=axes[0])\n",
    "axes[0].set_title(\"Black Defendants' Decile Scores\")\n",
    "axes[0].set_ylim(0, 650)\n",
    "\n",
    "sns.countplot(x='decile_score', data=df[df['race']==\"Caucasian\"],\n",
    "              order=sorted(df['decile_score'].unique()),\n",
    "              ax=axes[1])\n",
    "axes[1].set_title(\"White Defendants' Decile Scores\")\n",
    "axes[1].set_ylim(0, 650)\n",
    "\n",
    "for ax in axes:\n",
    "    ax.set_xlabel(\"Decile Score\")\n",
    "    ax.set_ylabel(\"Count\")\n",
    "\n",
    "plt.tight_layout()"
   ]
  },
  {
   "cell_type": "code",
   "execution_count": 32,
   "metadata": {
    "collapsed": false
   },
   "outputs": [
    {
     "data": {
      "text/html": [
       "<div>\n",
       "<style scoped>\n",
       "    .dataframe tbody tr th:only-of-type {\n",
       "        vertical-align: middle;\n",
       "    }\n",
       "\n",
       "    .dataframe tbody tr th {\n",
       "        vertical-align: top;\n",
       "    }\n",
       "\n",
       "    .dataframe thead th {\n",
       "        text-align: right;\n",
       "    }\n",
       "</style>\n",
       "<table border=\"1\" class=\"dataframe\">\n",
       "  <thead>\n",
       "    <tr style=\"text-align: right;\">\n",
       "      <th>race</th>\n",
       "      <th>African-American</th>\n",
       "      <th>Asian</th>\n",
       "      <th>Caucasian</th>\n",
       "      <th>Hispanic</th>\n",
       "      <th>Native American</th>\n",
       "      <th>Other</th>\n",
       "    </tr>\n",
       "    <tr>\n",
       "      <th>decile_score</th>\n",
       "      <th></th>\n",
       "      <th></th>\n",
       "      <th></th>\n",
       "      <th></th>\n",
       "      <th></th>\n",
       "      <th></th>\n",
       "    </tr>\n",
       "  </thead>\n",
       "  <tbody>\n",
       "    <tr>\n",
       "      <th>1</th>\n",
       "      <td>365</td>\n",
       "      <td>15</td>\n",
       "      <td>605</td>\n",
       "      <td>159</td>\n",
       "      <td>0</td>\n",
       "      <td>142</td>\n",
       "    </tr>\n",
       "    <tr>\n",
       "      <th>2</th>\n",
       "      <td>346</td>\n",
       "      <td>4</td>\n",
       "      <td>321</td>\n",
       "      <td>89</td>\n",
       "      <td>2</td>\n",
       "      <td>60</td>\n",
       "    </tr>\n",
       "    <tr>\n",
       "      <th>3</th>\n",
       "      <td>298</td>\n",
       "      <td>5</td>\n",
       "      <td>238</td>\n",
       "      <td>73</td>\n",
       "      <td>1</td>\n",
       "      <td>32</td>\n",
       "    </tr>\n",
       "    <tr>\n",
       "      <th>4</th>\n",
       "      <td>337</td>\n",
       "      <td>0</td>\n",
       "      <td>243</td>\n",
       "      <td>47</td>\n",
       "      <td>0</td>\n",
       "      <td>39</td>\n",
       "    </tr>\n",
       "    <tr>\n",
       "      <th>5</th>\n",
       "      <td>323</td>\n",
       "      <td>1</td>\n",
       "      <td>200</td>\n",
       "      <td>39</td>\n",
       "      <td>0</td>\n",
       "      <td>19</td>\n",
       "    </tr>\n",
       "    <tr>\n",
       "      <th>6</th>\n",
       "      <td>318</td>\n",
       "      <td>2</td>\n",
       "      <td>160</td>\n",
       "      <td>27</td>\n",
       "      <td>2</td>\n",
       "      <td>20</td>\n",
       "    </tr>\n",
       "    <tr>\n",
       "      <th>7</th>\n",
       "      <td>343</td>\n",
       "      <td>1</td>\n",
       "      <td>113</td>\n",
       "      <td>28</td>\n",
       "      <td>2</td>\n",
       "      <td>9</td>\n",
       "    </tr>\n",
       "    <tr>\n",
       "      <th>8</th>\n",
       "      <td>301</td>\n",
       "      <td>2</td>\n",
       "      <td>96</td>\n",
       "      <td>14</td>\n",
       "      <td>0</td>\n",
       "      <td>7</td>\n",
       "    </tr>\n",
       "    <tr>\n",
       "      <th>9</th>\n",
       "      <td>317</td>\n",
       "      <td>0</td>\n",
       "      <td>77</td>\n",
       "      <td>17</td>\n",
       "      <td>2</td>\n",
       "      <td>7</td>\n",
       "    </tr>\n",
       "    <tr>\n",
       "      <th>10</th>\n",
       "      <td>227</td>\n",
       "      <td>1</td>\n",
       "      <td>50</td>\n",
       "      <td>16</td>\n",
       "      <td>2</td>\n",
       "      <td>8</td>\n",
       "    </tr>\n",
       "  </tbody>\n",
       "</table>\n",
       "</div>"
      ],
      "text/plain": [
       "race          African-American  Asian  Caucasian  Hispanic  Native American  \\\n",
       "decile_score                                                                  \n",
       "1                          365     15        605       159                0   \n",
       "2                          346      4        321        89                2   \n",
       "3                          298      5        238        73                1   \n",
       "4                          337      0        243        47                0   \n",
       "5                          323      1        200        39                0   \n",
       "6                          318      2        160        27                2   \n",
       "7                          343      1        113        28                2   \n",
       "8                          301      2         96        14                0   \n",
       "9                          317      0         77        17                2   \n",
       "10                         227      1         50        16                2   \n",
       "\n",
       "race          Other  \n",
       "decile_score         \n",
       "1               142  \n",
       "2                60  \n",
       "3                32  \n",
       "4                39  \n",
       "5                19  \n",
       "6                20  \n",
       "7                 9  \n",
       "8                 7  \n",
       "9                 7  \n",
       "10                8  "
      ]
     },
     "execution_count": 32,
     "metadata": {},
     "output_type": "execute_result"
    }
   ],
   "source": [
    "pd.crosstab(df['decile_score'], df['race'])"
   ]
  },
  {
   "cell_type": "markdown",
   "metadata": {},
   "source": [
    "## Racial Bias in Compas\n",
    "\n",
    "We run a logistic regression predicting High vs. Low COMPAS score (`score_text != 'Low'`) as a function of gender, age category, race, number of priors, charge degree, and recidivism."
   ]
  },
  {
   "cell_type": "code",
   "execution_count": 33,
   "metadata": {
    "collapsed": false,
    "scrolled": false
   },
   "outputs": [],
   "source": [
    "df['high_score'] = (df['score_text'] != 'Low').astype(int)"
   ]
  },
  {
   "cell_type": "code",
   "execution_count": 37,
   "metadata": {},
   "outputs": [
    {
     "name": "stdout",
     "output_type": "stream",
     "text": [
      "                           Logit Regression Results                           \n",
      "==============================================================================\n",
      "Dep. Variable:             high_score   No. Observations:                 6172\n",
      "Model:                          Logit   Df Residuals:                     6160\n",
      "Method:                           MLE   Df Model:                           11\n",
      "Date:                Tue, 13 May 2025   Pseudo R-squ.:                  0.2729\n",
      "Time:                        19:43:14   Log-Likelihood:                -3084.2\n",
      "converged:                       True   LL-Null:                       -4241.7\n",
      "Covariance Type:            nonrobust   LLR p-value:                     0.000\n",
      "=================================================================================================\n",
      "                                    coef    std err          z      P>|z|      [0.025      0.975]\n",
      "-------------------------------------------------------------------------------------------------\n",
      "Intercept                        -0.8271      0.091     -9.132      0.000      -1.005      -0.650\n",
      "C(sex)[T.Male]                   -0.2213      0.080     -2.783      0.005      -0.377      -0.065\n",
      "C(age_cat)[T.Greater than 45]    -1.3556      0.099    -13.682      0.000      -1.550      -1.161\n",
      "C(age_cat)[T.Less than 25]        1.3084      0.076     17.232      0.000       1.160       1.457\n",
      "C(race)[T.Asian]                 -0.7316      0.477     -1.534      0.125      -1.667       0.203\n",
      "C(race)[T.Caucasian]             -0.4772      0.069     -6.881      0.000      -0.613      -0.341\n",
      "C(race)[T.Hispanic]              -0.9056      0.123     -7.344      0.000      -1.147      -0.664\n",
      "C(race)[T.Native American]        0.9170      0.765      1.198      0.231      -0.583       2.417\n",
      "C(race)[T.Other]                 -1.3036      0.158     -8.237      0.000      -1.614      -0.993\n",
      "C(c_charge_degree)[T.M]          -0.3112      0.067     -4.677      0.000      -0.442      -0.181\n",
      "priors_count                      0.2689      0.011     24.221      0.000       0.247       0.291\n",
      "two_year_recid                    0.6859      0.064     10.713      0.000       0.560       0.811\n",
      "=================================================================================================\n"
     ]
    }
   ],
   "source": [
    "model = smf.logit(\n",
    "    formula=\"high_score ~ C(sex) + C(age_cat) + C(race) + priors_count + C(c_charge_degree) + two_year_recid\",\n",
    "    data=df\n",
    ").fit(disp=False)\n",
    "\n",
    "print(model.summary())"
   ]
  },
  {
   "cell_type": "code",
   "execution_count": 45,
   "metadata": {},
   "outputs": [
    {
     "name": "stdout",
     "output_type": "stream",
     "text": [
      "Baseline P(high_score): 0.304\n",
      "White vs. Black ratio: 0.702\n",
      "Male vs. Female ratio: 0.853\n",
      "<25 vs. 25–45 ratio: 2.031\n"
     ]
    }
   ],
   "source": [
    "intercept      = model.params['Intercept']\n",
    "beta_white     = model.params['C(race)[T.Caucasian]']\n",
    "beta_male      = model.params['C(sex)[T.Male]']\n",
    "beta_under25   = model.params['C(age_cat)[T.Less than 25]']\n",
    "\n",
    "# baseline prob. for the reference group\n",
    "p0 = np.exp(intercept) / (1 + np.exp(intercept))\n",
    "print(f\"Baseline P(high_score): {p0:.3f}\")\n",
    "\n",
    "# adj prob ratios\n",
    "def adj_ratio(beta):\n",
    "    num = np.exp(beta)\n",
    "    return num / (1 - p0 + p0 * num)\n",
    "\n",
    "print(f\"White vs. Black ratio: {adj_ratio(beta_white):.3f}\")\n",
    "print(f\"Male vs. Female ratio: {adj_ratio(beta_male):.3f}\")\n",
    "print(f\"<25 vs. 25–45 ratio: {adj_ratio(beta_under25):.3f}\")"
   ]
  },
  {
   "cell_type": "markdown",
   "metadata": {},
   "source": [
    "- Baseline group (African-American female, age 25–45, no priors, no two-year recidivism) has a 30.4 % chance of being labeled “High Risk.”\n",
    "- White vs. Black: White defendants are only 0.702 × as likely as Black defendants to receive a High score — about a 29.8 % lower probability.\n",
    "- Male vs. Female: Male defendants are 0.853 × as likely as female defendants to get a - High score — roughly a 14.7 % lower probability.\n",
    "- Under 25 vs. 25–45: Defendants under 25 are about 2.03 × as likely as 25–45-year-olds to be classified High Risk."
   ]
  }
 ],
 "metadata": {
  "kernelspec": {
   "display_name": "ds_prod",
   "language": "python",
   "name": "python3"
  },
  "language_info": {
   "codemirror_mode": {
    "name": "ipython",
    "version": 3
   },
   "file_extension": ".py",
   "mimetype": "text/x-python",
   "name": "python",
   "nbconvert_exporter": "python",
   "pygments_lexer": "ipython3",
   "version": "3.12.9"
  }
 },
 "nbformat": 4,
 "nbformat_minor": 0
}
