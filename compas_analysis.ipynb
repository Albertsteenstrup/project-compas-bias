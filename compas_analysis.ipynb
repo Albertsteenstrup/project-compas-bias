{
 "cells": [
  {
   "cell_type": "markdown",
   "metadata": {},
   "source": [
    "# Compas Analysis"
   ]
  },
  {
   "cell_type": "code",
   "execution_count": 38,
   "metadata": {
    "collapsed": false,
    "scrolled": false
   },
   "outputs": [
    {
     "name": "stdout",
     "output_type": "stream",
     "text": [
      "\n",
      "\u001b[1m[\u001b[0m\u001b[34;49mnotice\u001b[0m\u001b[1;39;49m]\u001b[0m\u001b[39;49m A new release of pip is available: \u001b[0m\u001b[31;49m25.0.1\u001b[0m\u001b[39;49m -> \u001b[0m\u001b[32;49m25.1.1\u001b[0m\n",
      "\u001b[1m[\u001b[0m\u001b[34;49mnotice\u001b[0m\u001b[1;39;49m]\u001b[0m\u001b[39;49m To update, run: \u001b[0m\u001b[32;49mpip install --upgrade pip\u001b[0m\n"
     ]
    }
   ],
   "source": [
    "!pip install pandas numpy matplotlib seaborn statsmodels -q\n",
    "\n",
    "import pandas as pd\n",
    "import numpy as np\n",
    "from datetime import datetime\n",
    "import matplotlib.pyplot as plt\n",
    "import seaborn as sns\n",
    "import statsmodels.formula.api as smf\n",
    "\n",
    "sns.set(style=\"whitegrid\")"
   ]
  },
  {
   "cell_type": "code",
   "execution_count": 39,
   "metadata": {},
   "outputs": [
    {
     "name": "stdout",
     "output_type": "stream",
     "text": [
      "Total rows number: 7214\n"
     ]
    }
   ],
   "source": [
    "raw_data = pd.read_csv(\"dataset/compas-scores-two-years.csv\")\n",
    "print(f\"Total rows number: {len(raw_data)}\")"
   ]
  },
  {
   "cell_type": "code",
   "execution_count": 40,
   "metadata": {
    "collapsed": false
   },
   "outputs": [],
   "source": [
    "df = raw_data.loc[:, [\n",
    "    'age', 'c_charge_degree', 'race', 'age_cat', 'score_text', 'sex',\n",
    "    'priors_count', 'days_b_screening_arrest', 'decile_score',\n",
    "    'is_recid', 'two_year_recid', 'c_jail_in', 'c_jail_out',\n",
    "    'compas_screening_date'    # ← add this\n",
    "]]"
   ]
  },
  {
   "cell_type": "code",
   "execution_count": 41,
   "metadata": {},
   "outputs": [],
   "source": [
    "df['screening_date'] = pd.to_datetime(df['compas_screening_date'])\n",
    "cutoff = pd.Timestamp('2014-04-01')"
   ]
  },
  {
   "cell_type": "code",
   "execution_count": 42,
   "metadata": {},
   "outputs": [
    {
     "name": "stdout",
     "output_type": "stream",
     "text": [
      "Rows after two-year cutoff: 6216\n"
     ]
    }
   ],
   "source": [
    "df = df[df['screening_date'] <= cutoff].copy()\n",
    "print(f\"Rows after two-year cutoff: {len(df)}\")"
   ]
  },
  {
   "cell_type": "code",
   "execution_count": 43,
   "metadata": {},
   "outputs": [],
   "source": [
    "# We filter out rows for several reasons: (similar to the Propublica study)\n",
    "# 1. Screening date not within ±30 days of arrest  \n",
    "# 2. Missing recidivism flag (`is_recid == -1`)  \n",
    "# 3. Non-jailable offenses (`c_charge_degree == 'O'`)  \n",
    "# 4. Missing COMPAS score text (`score_text == 'N/A'`)  \n",
    "# 5. Only individuals with either two-year recidivism or ≥2 years out of jail"
   ]
  },
  {
   "cell_type": "code",
   "execution_count": 44,
   "metadata": {},
   "outputs": [
    {
     "name": "stdout",
     "output_type": "stream",
     "text": [
      "Rows after filtering: 5304\n"
     ]
    }
   ],
   "source": [
    "df = df[\n",
    "    df['days_b_screening_arrest'].between(-30, 30) &\n",
    "    (df['is_recid'] != -1) &\n",
    "    (df['c_charge_degree'] != 'O') &\n",
    "    (df['score_text'] != 'N/A')\n",
    "].copy()\n",
    "\n",
    "print(f\"Rows after filtering: {len(df)}\")"
   ]
  },
  {
   "cell_type": "code",
   "execution_count": 45,
   "metadata": {},
   "outputs": [
    {
     "name": "stdout",
     "output_type": "stream",
     "text": [
      "Correlation between length_of_stay and decile_score: 0.2115\n"
     ]
    }
   ],
   "source": [
    "#length of jail stay and its correlation with COMPAS decile score.\n",
    "\n",
    "df['c_jail_in'] = pd.to_datetime(df['c_jail_in'])\n",
    "df['c_jail_out'] = pd.to_datetime(df['c_jail_out'])\n",
    "df['length_of_stay'] = (df['c_jail_out'] - df['c_jail_in']).dt.days\n",
    "\n",
    "corr = df[['length_of_stay', 'decile_score']].corr().iloc[0,1]\n",
    "print(f\"Correlation between length_of_stay and decile_score: {corr:.4f}\")\n"
   ]
  },
  {
   "cell_type": "markdown",
   "metadata": {},
   "source": [
    "After filtering we have the following demographic breakdown:"
   ]
  },
  {
   "cell_type": "code",
   "execution_count": 46,
   "metadata": {
    "collapsed": false,
    "scrolled": true
   },
   "outputs": [
    {
     "name": "stdout",
     "output_type": "stream",
     "text": [
      "age_cat\n",
      "25 - 45            3031\n",
      "Greater than 45    1165\n",
      "Less than 25       1108\n",
      "Name: count, dtype: int64\n"
     ]
    }
   ],
   "source": [
    "print(df['age_cat'].value_counts(dropna=False))"
   ]
  },
  {
   "cell_type": "code",
   "execution_count": 47,
   "metadata": {
    "collapsed": false
   },
   "outputs": [
    {
     "name": "stdout",
     "output_type": "stream",
     "text": [
      "race\n",
      "African-American    2682\n",
      "Caucasian           1829\n",
      "Hispanic             448\n",
      "Other                309\n",
      "Asian                 27\n",
      "Native American        9\n",
      "Name: count, dtype: int64\n"
     ]
    }
   ],
   "source": [
    "print(df['race'].value_counts(dropna=False))"
   ]
  },
  {
   "cell_type": "code",
   "execution_count": 48,
   "metadata": {
    "collapsed": false
   },
   "outputs": [
    {
     "name": "stdout",
     "output_type": "stream",
     "text": [
      "African-American: 50.57%\n",
      "Caucasian: 34.48%\n",
      "Hispanic: 8.45%\n",
      "Other: 5.83%\n",
      "Asian: 0.51%\n",
      "Native American: 0.17%\n"
     ]
    }
   ],
   "source": [
    "total = len(df)\n",
    "for race, count in df['race'].value_counts().items():\n",
    "    print(f\"{race}: {count/total*100:.2f}%\")"
   ]
  },
  {
   "cell_type": "code",
   "execution_count": 49,
   "metadata": {
    "collapsed": false
   },
   "outputs": [
    {
     "name": "stdout",
     "output_type": "stream",
     "text": [
      "score_text\n",
      "Low       3086\n",
      "Medium    1329\n",
      "High       889\n",
      "Name: count, dtype: int64\n"
     ]
    }
   ],
   "source": [
    "print(df['score_text'].value_counts())"
   ]
  },
  {
   "cell_type": "code",
   "execution_count": 50,
   "metadata": {
    "collapsed": false
   },
   "outputs": [
    {
     "name": "stdout",
     "output_type": "stream",
     "text": [
      "race    African-American  Asian  Caucasian  Hispanic  Native American  Other\n",
      "sex                                                                         \n",
      "Female               474      1        414        73                2     53\n",
      "Male                2208     26       1415       375                7    256\n"
     ]
    }
   ],
   "source": [
    "print(pd.crosstab(df['sex'], df['race']))"
   ]
  },
  {
   "cell_type": "code",
   "execution_count": 51,
   "metadata": {
    "collapsed": false
   },
   "outputs": [
    {
     "name": "stdout",
     "output_type": "stream",
     "text": [
      "Male: 80.83%\n",
      "Female: 19.17%\n"
     ]
    }
   ],
   "source": [
    "sex_counts = df['sex'].value_counts()\n",
    "for sex, count in sex_counts.items():\n",
    "    print(f\"{sex}: {count/total*100:.2f}%\")"
   ]
  },
  {
   "cell_type": "code",
   "execution_count": 52,
   "metadata": {
    "collapsed": false
   },
   "outputs": [
    {
     "name": "stdout",
     "output_type": "stream",
     "text": [
      "\n",
      "Number of recidivists: 1941\n",
      "Recidivism rate: 36.60%\n"
     ]
    }
   ],
   "source": [
    "recid_count = df['two_year_recid'].sum()\n",
    "print(f\"\\nNumber of recidivists: {recid_count}\")\n",
    "print(f\"Recidivism rate: {recid_count/total*100:.2f}%\")"
   ]
  },
  {
   "cell_type": "code",
   "execution_count": 53,
   "metadata": {
    "collapsed": false
   },
   "outputs": [
    {
     "data": {
      "image/png": "[encoded data removed]",
      "text/plain": [
       "<Figure size 1200x400 with 2 Axes>"
      ]
     },
     "metadata": {},
     "output_type": "display_data"
    }
   ],
   "source": [
    "fig, axes = plt.subplots(1, 2, figsize=(12, 4), sharey=True)\n",
    "\n",
    "sns.countplot(x='decile_score', data=df[df['race']==\"African-American\"],\n",
    "              order=sorted(df['decile_score'].unique()),\n",
    "              ax=axes[0])\n",
    "axes[0].set_title(\"Black Defendants' Decile Scores\")\n",
    "axes[0].set_ylim(0, 650)\n",
    "\n",
    "sns.countplot(x='decile_score', data=df[df['race']==\"Caucasian\"],\n",
    "              order=sorted(df['decile_score'].unique()),\n",
    "              ax=axes[1])\n",
    "axes[1].set_title(\"White Defendants' Decile Scores\")\n",
    "axes[1].set_ylim(0, 650)\n",
    "\n",
    "for ax in axes:\n",
    "    ax.set_xlabel(\"Decile Score\")\n",
    "    ax.set_ylabel(\"Count\")\n",
    "\n",
    "plt.tight_layout()"
   ]
  },
  {
   "cell_type": "code",
   "execution_count": 54,
   "metadata": {
    "collapsed": false
   },
   "outputs": [
    {
     "data": {
      "text/html": [
       "<div>\n",
       "<style scoped>\n",
       "    .dataframe tbody tr th:only-of-type {\n",
       "        vertical-align: middle;\n",
       "    }\n",
       "\n",
       "    .dataframe tbody tr th {\n",
       "        vertical-align: top;\n",
       "    }\n",
       "\n",
       "    .dataframe thead th {\n",
       "        text-align: right;\n",
       "    }\n",
       "</style>\n",
       "<table border=\"1\" class=\"dataframe\">\n",
       "  <thead>\n",
       "    <tr style=\"text-align: right;\">\n",
       "      <th>race</th>\n",
       "      <th>African-American</th>\n",
       "      <th>Asian</th>\n",
       "      <th>Caucasian</th>\n",
       "      <th>Hispanic</th>\n",
       "      <th>Native American</th>\n",
       "      <th>Other</th>\n",
       "    </tr>\n",
       "    <tr>\n",
       "      <th>decile_score</th>\n",
       "      <th></th>\n",
       "      <th></th>\n",
       "      <th></th>\n",
       "      <th></th>\n",
       "      <th></th>\n",
       "      <th></th>\n",
       "    </tr>\n",
       "  </thead>\n",
       "  <tbody>\n",
       "    <tr>\n",
       "      <th>1</th>\n",
       "      <td>338</td>\n",
       "      <td>14</td>\n",
       "      <td>570</td>\n",
       "      <td>146</td>\n",
       "      <td>0</td>\n",
       "      <td>136</td>\n",
       "    </tr>\n",
       "    <tr>\n",
       "      <th>2</th>\n",
       "      <td>316</td>\n",
       "      <td>4</td>\n",
       "      <td>277</td>\n",
       "      <td>77</td>\n",
       "      <td>2</td>\n",
       "      <td>53</td>\n",
       "    </tr>\n",
       "    <tr>\n",
       "      <th>3</th>\n",
       "      <td>264</td>\n",
       "      <td>4</td>\n",
       "      <td>214</td>\n",
       "      <td>64</td>\n",
       "      <td>1</td>\n",
       "      <td>28</td>\n",
       "    </tr>\n",
       "    <tr>\n",
       "      <th>4</th>\n",
       "      <td>288</td>\n",
       "      <td>0</td>\n",
       "      <td>214</td>\n",
       "      <td>43</td>\n",
       "      <td>0</td>\n",
       "      <td>33</td>\n",
       "    </tr>\n",
       "    <tr>\n",
       "      <th>5</th>\n",
       "      <td>265</td>\n",
       "      <td>1</td>\n",
       "      <td>168</td>\n",
       "      <td>31</td>\n",
       "      <td>0</td>\n",
       "      <td>17</td>\n",
       "    </tr>\n",
       "    <tr>\n",
       "      <th>6</th>\n",
       "      <td>262</td>\n",
       "      <td>2</td>\n",
       "      <td>133</td>\n",
       "      <td>23</td>\n",
       "      <td>2</td>\n",
       "      <td>17</td>\n",
       "    </tr>\n",
       "    <tr>\n",
       "      <th>7</th>\n",
       "      <td>280</td>\n",
       "      <td>0</td>\n",
       "      <td>93</td>\n",
       "      <td>25</td>\n",
       "      <td>2</td>\n",
       "      <td>8</td>\n",
       "    </tr>\n",
       "    <tr>\n",
       "      <th>8</th>\n",
       "      <td>246</td>\n",
       "      <td>2</td>\n",
       "      <td>66</td>\n",
       "      <td>12</td>\n",
       "      <td>0</td>\n",
       "      <td>4</td>\n",
       "    </tr>\n",
       "    <tr>\n",
       "      <th>9</th>\n",
       "      <td>256</td>\n",
       "      <td>0</td>\n",
       "      <td>59</td>\n",
       "      <td>17</td>\n",
       "      <td>1</td>\n",
       "      <td>6</td>\n",
       "    </tr>\n",
       "    <tr>\n",
       "      <th>10</th>\n",
       "      <td>167</td>\n",
       "      <td>0</td>\n",
       "      <td>35</td>\n",
       "      <td>10</td>\n",
       "      <td>1</td>\n",
       "      <td>7</td>\n",
       "    </tr>\n",
       "  </tbody>\n",
       "</table>\n",
       "</div>"
      ],
      "text/plain": [
       "race          African-American  Asian  Caucasian  Hispanic  Native American  \\\n",
       "decile_score                                                                  \n",
       "1                          338     14        570       146                0   \n",
       "2                          316      4        277        77                2   \n",
       "3                          264      4        214        64                1   \n",
       "4                          288      0        214        43                0   \n",
       "5                          265      1        168        31                0   \n",
       "6                          262      2        133        23                2   \n",
       "7                          280      0         93        25                2   \n",
       "8                          246      2         66        12                0   \n",
       "9                          256      0         59        17                1   \n",
       "10                         167      0         35        10                1   \n",
       "\n",
       "race          Other  \n",
       "decile_score         \n",
       "1               136  \n",
       "2                53  \n",
       "3                28  \n",
       "4                33  \n",
       "5                17  \n",
       "6                17  \n",
       "7                 8  \n",
       "8                 4  \n",
       "9                 6  \n",
       "10                7  "
      ]
     },
     "execution_count": 54,
     "metadata": {},
     "output_type": "execute_result"
    }
   ],
   "source": [
    "pd.crosstab(df['decile_score'], df['race'])"
   ]
  },
  {
   "cell_type": "markdown",
   "metadata": {},
   "source": [
    "## Racial Bias in Compas\n",
    "\n",
    "We run a logistic regression predicting High vs. Low COMPAS score (`score_text != 'Low'`) as a function of gender, age category, race, number of priors, charge degree, and recidivism."
   ]
  },
  {
   "cell_type": "code",
   "execution_count": 55,
   "metadata": {
    "collapsed": false,
    "scrolled": false
   },
   "outputs": [],
   "source": [
    "df['high_score'] = (df['score_text'] != 'Low').astype(int)"
   ]
  },
  {
   "cell_type": "code",
   "execution_count": 56,
   "metadata": {},
   "outputs": [],
   "source": [
    "df['race_cat'] = pd.Categorical(\n",
    "    df['race'],\n",
    "    categories=[\n",
    "        'Caucasian',\n",
    "        'African-American',\n",
    "        'Asian',\n",
    "        'Hispanic',\n",
    "        'Native American',\n",
    "        'Other'\n",
    "    ],\n",
    "    ordered=False\n",
    ")\n",
    "\n",
    "model = smf.logit(\n",
    "    formula=(\n",
    "        \"high_score ~ \"\n",
    "        \"C(sex) + \"\n",
    "        \"C(age_cat) + \"\n",
    "        \"C(race_cat, Treatment(reference='Caucasian')) + \"\n",
    "        \"priors_count + \"\n",
    "        \"C(c_charge_degree) + \"\n",
    "        \"two_year_recid\"\n",
    "    ),\n",
    "    data=df\n",
    ").fit(disp=False)"
   ]
  },
  {
   "cell_type": "code",
   "execution_count": 57,
   "metadata": {},
   "outputs": [
    {
     "name": "stdout",
     "output_type": "stream",
     "text": [
      "Baseline P(high_score): 0.209\n",
      "African-American vs. White ratio: 1.440\n",
      "Male vs. Female ratio:           0.831\n",
      "<25 vs. 25–45 ratio:             2.430\n"
     ]
    }
   ],
   "source": [
    "# Extract the corrected coefficients:\n",
    "intercept    = model.params['Intercept']\n",
    "beta_black   = model.params[\"C(race_cat, Treatment(reference='Caucasian'))[T.African-American]\"]\n",
    "beta_male    = model.params['C(sex)[T.Male]']\n",
    "beta_under25 = model.params['C(age_cat)[T.Less than 25]']\n",
    "\n",
    "# Baseline probability for the reference group (Caucasian female, age 25–45, 0 priors, no recid)\n",
    "p0 = np.exp(intercept) / (1 + np.exp(intercept))\n",
    "print(f\"Baseline P(high_score): {p0:.3f}\")\n",
    "\n",
    "# Adjusted probability ratios\n",
    "def adj_ratio(beta):\n",
    "    num = np.exp(beta)\n",
    "    return num / (1 - p0 + p0 * num)\n",
    "\n",
    "print(f\"African-American vs. White ratio: {adj_ratio(beta_black):.3f}\")\n",
    "print(f\"Male vs. Female ratio:           {adj_ratio(beta_male):.3f}\")\n",
    "print(f\"<25 vs. 25–45 ratio:             {adj_ratio(beta_under25):.3f}\")"
   ]
  },
  {
   "cell_type": "markdown",
   "metadata": {},
   "source": [
    "- **African-American vs. White**: Black defendants are **1.43×** as likely as White defendants to receive a High score (≈ 42.5 % higher probability).  \n",
    "- **Male vs. Female**: Male defendants are **0.84×** as likely as female defendants to get a High score (≈ 16.3 % lower probability).  \n",
    "- **Under 25 vs. 25–45**: Defendants under 25 are **2.35×** as likely as 25–45-year-olds to be classified High Risk (≈ 134.7 % higher probability).  \n"
   ]
  }
 ],
 "metadata": {
  "kernelspec": {
   "display_name": "ds_prod",
   "language": "python",
   "name": "python3"
  },
  "language_info": {
   "codemirror_mode": {
    "name": "ipython",
    "version": 3
   },
   "file_extension": ".py",
   "mimetype": "text/x-python",
   "name": "python",
   "nbconvert_exporter": "python",
   "pygments_lexer": "ipython3",
   "version": "3.12.9"
  }
 },
 "nbformat": 4,
 "nbformat_minor": 0
}
